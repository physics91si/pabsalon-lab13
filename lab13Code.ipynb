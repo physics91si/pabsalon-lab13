{
 "cells": [
  {
   "cell_type": "code",
   "execution_count": 208,
   "metadata": {
    "collapsed": false
   },
   "outputs": [],
   "source": [
    "import calc as c\n",
    "import testing as t"
   ]
  },
  {
   "cell_type": "code",
   "execution_count": 209,
   "metadata": {
    "collapsed": false
   },
   "outputs": [
    {
     "name": "stdout",
     "output_type": "stream",
     "text": [
      "18\n"
     ]
    }
   ],
   "source": [
    "s = \"9+9148\"\n",
    "print(c.calc(s))"
   ]
  },
  {
   "cell_type": "code",
   "execution_count": 210,
   "metadata": {
    "collapsed": false
   },
   "outputs": [
    {
     "name": "stdout",
     "output_type": "stream",
     "text": [
      "testAddition (__main__.CalcTest) ... ok\r\n",
      "testDivision (__main__.CalcTest) ... ERROR\r\n",
      "testMultiplciation (__main__.CalcTest) ... ERROR\r\n",
      "testSubtraction (__main__.CalcTest) ... FAIL\r\n",
      "\r\n",
      "======================================================================\r\n",
      "ERROR: testDivision (__main__.CalcTest)\r\n",
      "----------------------------------------------------------------------\r\n",
      "Traceback (most recent call last):\r\n",
      "  File \"testing.py\", line 22, in testDivision\r\n",
      "    self.assertEqual(calc.calc('10/2'), 5)\r\n",
      "  File \"/Users/pabloabsalon/Physics 91SI/pabsalon-lab13/calc.py\", line 34, in calc\r\n",
      "    return int(num1)/int(num2)\r\n",
      "ValueError: invalid literal for int() with base 10: '/2'\r\n",
      "\r\n",
      "======================================================================\r\n",
      "ERROR: testMultiplciation (__main__.CalcTest)\r\n",
      "----------------------------------------------------------------------\r\n",
      "Traceback (most recent call last):\r\n",
      "  File \"testing.py\", line 19, in testMultiplciation\r\n",
      "    self.assertEqual(calc.calc('3*2'), 6)\r\n",
      "  File \"/Users/pabloabsalon/Physics 91SI/pabsalon-lab13/calc.py\", line 32, in calc\r\n",
      "    return int(num1)*int(num2)\r\n",
      "ValueError: invalid literal for int() with base 10: '*2'\r\n",
      "\r\n",
      "======================================================================\r\n",
      "FAIL: testSubtraction (__main__.CalcTest)\r\n",
      "----------------------------------------------------------------------\r\n",
      "Traceback (most recent call last):\r\n",
      "  File \"testing.py\", line 16, in testSubtraction\r\n",
      "    self.assertEqual(calc.calc('10-2'), 8)\r\n",
      "AssertionError: 12 != 8\r\n",
      "\r\n",
      "----------------------------------------------------------------------\r\n",
      "Ran 4 tests in 0.001s\r\n",
      "\r\n",
      "FAILED (failures=1, errors=2)\r\n"
     ]
    }
   ],
   "source": [
    "!python testing.py -v"
   ]
  },
  {
   "cell_type": "code",
   "execution_count": 211,
   "metadata": {
    "collapsed": false
   },
   "outputs": [
    {
     "name": "stdout",
     "output_type": "stream",
     "text": [
      "1\n",
      "15678\n",
      "+\n"
     ]
    }
   ],
   "source": [
    "s = \"1+15678\"\n",
    "index = 0\n",
    "for char in s:\n",
    "    if(not char.isdigit()):\n",
    "        break\n",
    "    index = index + 1\n",
    "\n",
    "\n",
    "num1 = int(s[0:index])\n",
    "num2 = int(s[index:len(s)])\n",
    "operation = s[index]\n",
    "print(num1)\n",
    "print(num2)\n",
    "print(operation)"
   ]
  },
  {
   "cell_type": "code",
   "execution_count": null,
   "metadata": {
    "collapsed": true
   },
   "outputs": [],
   "source": []
  },
  {
   "cell_type": "code",
   "execution_count": null,
   "metadata": {
    "collapsed": true
   },
   "outputs": [],
   "source": []
  }
 ],
 "metadata": {
  "kernelspec": {
   "display_name": "Python 3",
   "language": "python",
   "name": "python3"
  },
  "language_info": {
   "codemirror_mode": {
    "name": "ipython",
    "version": 3
   },
   "file_extension": ".py",
   "mimetype": "text/x-python",
   "name": "python",
   "nbconvert_exporter": "python",
   "pygments_lexer": "ipython3",
   "version": "3.5.1"
  }
 },
 "nbformat": 4,
 "nbformat_minor": 0
}
